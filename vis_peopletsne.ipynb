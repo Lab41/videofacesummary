{
 "cells": [
  {
   "cell_type": "code",
   "execution_count": null,
   "metadata": {
    "collapsed": true
   },
   "outputs": [],
   "source": [
    "from peopletsne import peopletsne\n",
    "import pickle\n",
    "from collections import defaultdict\n",
    "from ipywidgets import fixed, interact, interact_manual, interactive\n",
    "from bokeh.plotting import figure, output_notebook, output_file, show\n",
    "import ipywidgets as widgets\n",
    "from matplotlib import pyplot as plt\n",
    "import PIL\n",
    "from PIL import Image\n",
    "import cv2"
   ]
  },
  {
   "cell_type": "code",
   "execution_count": null,
   "metadata": {},
   "outputs": [],
   "source": [
    "output_notebook()"
   ]
  },
  {
   "cell_type": "code",
   "execution_count": null,
   "metadata": {
    "collapsed": true
   },
   "outputs": [],
   "source": [
    "people = pickle.load(open('/in/detected.pickle','rb'))\n",
    "#tasking = pickle.load(open('find_us.pickle','rb'))\n",
    "\n",
    "#pretend you have ppl of interest\n",
    "#DATASTORE = make_datastore(people,tasking)\n",
    "\n",
    "#pretend you just have video processed\n",
    "DATASTORE = peopletsne.make_datastore(people)\n",
    "d = dict()\n",
    "d['prep']=18\n",
    "d['lr']=21"
   ]
  },
  {
   "cell_type": "code",
   "execution_count": null,
   "metadata": {
    "collapsed": true
   },
   "outputs": [],
   "source": [
    "name2inds = defaultdict(set)"
   ]
  },
  {
   "cell_type": "code",
   "execution_count": null,
   "metadata": {},
   "outputs": [],
   "source": [
    "#plot dots\n",
    "chain = peopletsne.interact(peopletsne.tsne_faces,\n",
    "                            prep=widgets.IntSlider(min=1,max=100,step=1,value=6),\n",
    "                            X=fixed(DATASTORE[0]),\n",
    "                            COLOR=fixed(DATASTORE[1]),\n",
    "                            lr=widgets.IntSlider(min=1,max=1000,step=1,value=70),\n",
    "                            d=fixed(d),\n",
    "                            thumbs=fixed(DATASTORE[5]));"
   ]
  },
  {
   "cell_type": "code",
   "execution_count": null,
   "metadata": {},
   "outputs": [],
   "source": [
    "reduceD = peopletsne.reduce_datastore(DATASTORE,inds,tsne_x,tsne_y)"
   ]
  },
  {
   "cell_type": "code",
   "execution_count": null,
   "metadata": {},
   "outputs": [],
   "source": [
    "peopletsne.tsne_html(reduceD,d,100,False)"
   ]
  },
  {
   "cell_type": "code",
   "execution_count": null,
   "metadata": {
    "collapsed": true
   },
   "outputs": [],
   "source": [
    "peopletsne.relabel_found(DATASTORE,inds,name2inds,'bennings','fuchsia')"
   ]
  },
  {
   "cell_type": "code",
   "execution_count": null,
   "metadata": {
    "collapsed": true
   },
   "outputs": [],
   "source": []
  },
  {
   "cell_type": "code",
   "execution_count": null,
   "metadata": {
    "collapsed": true
   },
   "outputs": [],
   "source": []
  },
  {
   "cell_type": "code",
   "execution_count": null,
   "metadata": {
    "collapsed": true
   },
   "outputs": [],
   "source": [
    "peopletsne.make_tasking('/in/2/*','/tasking.pickl')\n"
   ]
  },
  {
   "cell_type": "code",
   "execution_count": null,
   "metadata": {},
   "outputs": [],
   "source": [
    "tasking = pickle.load(open('/tasking.pickl','rb'))\n",
    "tasking_key = list(tasking.keys())\n",
    "tasking_key"
   ]
  },
  {
   "cell_type": "code",
   "execution_count": null,
   "metadata": {},
   "outputs": [],
   "source": [
    "interact(peopletsne.showResults, \n",
    "         threshold=widgets.FloatSlider(min=0.00,max=1.0,step=0.01,value=0.42),\n",
    "         key=tasking_key,\n",
    "         tasking=fixed(tasking),people=fixed(people))"
   ]
  },
  {
   "cell_type": "code",
   "execution_count": null,
   "metadata": {
    "collapsed": true
   },
   "outputs": [],
   "source": [
    "#write out the DATASTORE\n",
    "DOUT = open('/in/DATASTORE.pickle','wb')\n",
    "pickle.dump(DATASTORE,DOUT)\n",
    "DOUT.close()\n"
   ]
  },
  {
   "cell_type": "code",
   "execution_count": null,
   "metadata": {
    "collapsed": true
   },
   "outputs": [],
   "source": [
    "#write out name2inds\n",
    "N2I = open('/in/DATASTORE_N2I.pickle','wb')\n",
    "pickle.dump(name2inds,N2I)\n",
    "N2I.close()"
   ]
  },
  {
   "cell_type": "code",
   "execution_count": null,
   "metadata": {},
   "outputs": [],
   "source": [
    "plt.imshow(PIL.Image.fromarray( cv2.cvtColor(people['29']['pic'], cv2.COLOR_BGR2RGB)))\n",
    "plt.show()"
   ]
  },
  {
   "cell_type": "code",
   "execution_count": null,
   "metadata": {
    "collapsed": true
   },
   "outputs": [],
   "source": []
  }
 ],
 "metadata": {
  "kernelspec": {
   "display_name": "Python 3",
   "language": "python",
   "name": "python3"
  },
  "language_info": {
   "codemirror_mode": {
    "name": "ipython",
    "version": 3
   },
   "file_extension": ".py",
   "mimetype": "text/x-python",
   "name": "python",
   "nbconvert_exporter": "python",
   "pygments_lexer": "ipython3",
   "version": "3.6.0"
  }
 },
 "nbformat": 4,
 "nbformat_minor": 2
}
